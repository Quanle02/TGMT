{
 "cells": [
  {
   "cell_type": "code",
   "execution_count": 1,
   "id": "c3aaa76b-a140-48db-9570-29cadd6591ca",
   "metadata": {},
   "outputs": [
    {
     "name": "stdout",
     "output_type": "stream",
     "text": [
      "[(514.7258064516128, 398.33870967741944), (358.241935483871, 193.9516129032259), (299.69354838709677, 117.30645161290334), (188.98387096774195, 168.4032258064517), (438.0806451612903, 156.69354838709688)]\n"
     ]
    }
   ],
   "source": [
    "from PIL import Image\n",
    "import matplotlib.pyplot as plt\n",
    "\n",
    "my_path = 'D:/tgmt_img/img02.jpg'\n",
    "\n",
    "im = Image.open(my_path)\n",
    "\n",
    "plt.switch_backend('tkagg')\n",
    "\n",
    "plt.imshow(im)\n",
    "plt.title('Click on the image to select points')\n",
    "\n",
    "points = plt.ginput(5)\n",
    "\n",
    "print(points)\n",
    "\n",
    "plt.show()"
   ]
  },
  {
   "cell_type": "code",
   "execution_count": 2,
   "id": "da614855-96d5-45d7-a5bc-5fe51f08254a",
   "metadata": {},
   "outputs": [],
   "source": [
    "plt.close()\n",
    "\n",
    "plt.imshow(im)\n",
    "for point in points:\n",
    "    x, y = point\n",
    "    plt.plot(x,y, 'r*')\n",
    "\n",
    "plt.show()"
   ]
  }
 ],
 "metadata": {
  "kernelspec": {
   "display_name": "Python 3 (ipykernel)",
   "language": "python",
   "name": "python3"
  },
  "language_info": {
   "codemirror_mode": {
    "name": "ipython",
    "version": 3
   },
   "file_extension": ".py",
   "mimetype": "text/x-python",
   "name": "python",
   "nbconvert_exporter": "python",
   "pygments_lexer": "ipython3",
   "version": "3.12.4"
  }
 },
 "nbformat": 4,
 "nbformat_minor": 5
}

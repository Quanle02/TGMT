{
 "cells": [
  {
   "cell_type": "code",
   "execution_count": 1,
   "id": "b0c76ae2-5697-4dc4-8dbe-e78a0df35e13",
   "metadata": {},
   "outputs": [
    {
     "name": "stdout",
     "output_type": "stream",
     "text": [
      "[3 5 1]\n",
      "5\n"
     ]
    }
   ],
   "source": [
    "import numpy as np\n",
    "\n",
    "a = np.array([3,5,1])\n",
    "print(a)\n",
    "element = a[1]\n",
    "print(element)"
   ]
  },
  {
   "cell_type": "code",
   "execution_count": 3,
   "id": "6badbe85-b912-4bcf-b061-d62a27e1fb0b",
   "metadata": {},
   "outputs": [
    {
     "name": "stdout",
     "output_type": "stream",
     "text": [
      "Matrix:\n",
      "[[ 2  4  8]\n",
      " [ 3  5  7]\n",
      " [11 22 33]]\n",
      "5\n"
     ]
    }
   ],
   "source": [
    "matrix = np.array([[2, 4, 8], [3, 5, 7], [11, 22, 33]])\n",
    "print(\"Matrix:\")\n",
    "print(matrix)\n",
    "\n",
    "element = matrix[1, 1]\n",
    "print(element)"
   ]
  },
  {
   "cell_type": "code",
   "execution_count": 4,
   "id": "436e9f53-222e-4424-8d7f-6fac2d7374d4",
   "metadata": {},
   "outputs": [
    {
     "name": "stdout",
     "output_type": "stream",
     "text": [
      "[0. 0. 0. 0. 0.]\n",
      "[1. 1. 1. 1. 1.]\n",
      "[1. 1. 1. 1. 1.]\n",
      "[ 0  1  2  3  4  5  6  7  8  9 10 11 12 13 14 15 16 17 18 19 20 21 22 23\n",
      " 24 25 26 27 28 29 30 31 32 33 34 35 36 37 38 39 40 41 42 43 44 45 46 47\n",
      " 48 49 50 51 52 53 54 55 56 57 58 59 60 61 62 63 64 65 66 67 68 69 70 71\n",
      " 72 73 74 75 76 77 78 79 80 81 82 83 84 85 86 87 88 89 90 91 92 93 94 95\n",
      " 96 97 98 99]\n",
      "[ 0.   2.5  5.   7.5 10. ]\n"
     ]
    }
   ],
   "source": [
    "a = np.zeros(5)\n",
    "print(a)\n",
    "\n",
    "a = np.ones(5)\n",
    "print(a)\n",
    "\n",
    "a = np.empty(5)\n",
    "print(a)\n",
    "\n",
    "a = np.arange(100)\n",
    "print(a)\n",
    "\n",
    "a = np.linspace(0, 10, num=5)\n",
    "print(a)\n",
    "\n",
    "a = np.ones(5, dtype=np.int64)"
   ]
  },
  {
   "cell_type": "code",
   "execution_count": 5,
   "id": "d8d1d6d3-e435-4aa0-902e-0852260462ce",
   "metadata": {},
   "outputs": [
    {
     "name": "stdout",
     "output_type": "stream",
     "text": [
      "[1 3 4 2 5]\n",
      "[1 2 3 4 5]\n",
      "[5 4 3 2 1]\n",
      "[  5   4   3   2   1 100]\n",
      "[  5   4   3   1 100]\n"
     ]
    }
   ],
   "source": [
    "arr = np.array([1, 3, 4, 2, 5])\n",
    "print(arr)\n",
    "\n",
    "arr = np.sort(arr)\n",
    "print(arr)\n",
    "\n",
    "arr = np.sort(arr)[::-1]\n",
    "print(arr)\n",
    "\n",
    "arr = np.append(arr, 100)\n",
    "print(arr)\n",
    "\n",
    "arr = np.delete(arr, 3)\n",
    "print(arr)"
   ]
  },
  {
   "cell_type": "code",
   "execution_count": 6,
   "id": "67807b2b-9c45-41bd-9288-fedb140d3f9d",
   "metadata": {},
   "outputs": [
    {
     "name": "stdout",
     "output_type": "stream",
     "text": [
      "[[1 2 3]\n",
      " [4 6 8]\n",
      " [5 7 9]]\n",
      "[[1 3 2]\n",
      " [5 6 4]\n",
      " [8 9 7]]\n"
     ]
    }
   ],
   "source": [
    "arr = np.array([[1, 3, 2],\n",
    "                [8, 6, 4],\n",
    "                [5, 9, 7]])\n",
    "\n",
    "sap_xep_theo_hang = np.sort(arr, axis=1)\n",
    "print(sap_xep_theo_hang)\n",
    "\n",
    "sap_xep_theo_cot = np.sort(arr, axis=0)\n",
    "print(sap_xep_theo_cot)"
   ]
  },
  {
   "cell_type": "code",
   "execution_count": 7,
   "id": "c4756664-000d-479c-9b4f-c64dfaf098cd",
   "metadata": {},
   "outputs": [
    {
     "name": "stdout",
     "output_type": "stream",
     "text": [
      "[[3 2 1]\n",
      " [8 6 4]\n",
      " [9 7 5]]\n",
      "[[9 7 8]\n",
      " [4 6 5]\n",
      " [3 1 2]]\n"
     ]
    }
   ],
   "source": [
    "arr = np.array([[3, 1, 2],\n",
    "                [4, 6, 8],\n",
    "                [9, 7, 5]])\n",
    "\n",
    "sap_xep_theo_hang = -np.sort(-arr, axis=1)\n",
    "print(sap_xep_theo_hang)\n",
    "\n",
    "sap_xep_theo_cot = -np.sort(-arr, axis=0)\n",
    "print(sap_xep_theo_cot)"
   ]
  },
  {
   "cell_type": "code",
   "execution_count": 8,
   "id": "6c0dd3b4-dd12-459f-a297-3f93648301bf",
   "metadata": {},
   "outputs": [
    {
     "name": "stdout",
     "output_type": "stream",
     "text": [
      "Số chiều: 2\n",
      "Kích thước: 6\n",
      "Hình dạng: (2, 3)\n"
     ]
    }
   ],
   "source": [
    "arr = np.array([[1, 2, 3], [4, 5, 6]])\n",
    "so_chieu = arr.ndim\n",
    "kich_thuoc = arr.size\n",
    "hinh_dang = arr.shape\n",
    "\n",
    "print(\"Số chiều:\", so_chieu)\n",
    "print(\"Kích thước:\", kich_thuoc)\n",
    "print(\"Hình dạng:\", hinh_dang)"
   ]
  },
  {
   "cell_type": "code",
   "execution_count": 9,
   "id": "890416fb-e1b8-43ec-8f20-8b4f89bb0274",
   "metadata": {},
   "outputs": [
    {
     "name": "stdout",
     "output_type": "stream",
     "text": [
      "[1. 2. 3. 4. 5.]\n"
     ]
    }
   ],
   "source": [
    "arr = np.array([1, 2, 3, 4, 5])\n",
    "arr_float = arr.astype(float)\n",
    "print(arr_float)"
   ]
  },
  {
   "cell_type": "code",
   "execution_count": 10,
   "id": "ad8474b7-f62c-4886-a58c-97480d4572c4",
   "metadata": {},
   "outputs": [
    {
     "name": "stdout",
     "output_type": "stream",
     "text": [
      "[[1 2 3]\n",
      " [4 5 6]]\n",
      "[[1 2]\n",
      " [3 4]\n",
      " [5 6]]\n"
     ]
    }
   ],
   "source": [
    "arr = np.array([1, 2, 3, 4, 5, 6])\n",
    "reshaped_arr = arr.reshape(2,3)\n",
    "print(reshaped_arr)\n",
    "reshaped_arr = arr.reshape(3,2)\n",
    "print(reshaped_arr)"
   ]
  },
  {
   "cell_type": "code",
   "execution_count": 11,
   "id": "91d39a9a-67f7-42c0-96c7-7c67b540dae0",
   "metadata": {},
   "outputs": [
    {
     "name": "stdout",
     "output_type": "stream",
     "text": [
      "[1 2 3 4 5 6]\n"
     ]
    }
   ],
   "source": [
    "reshaped_arr = reshaped_arr.flatten()\n",
    "print(reshaped_arr)"
   ]
  },
  {
   "cell_type": "code",
   "execution_count": 12,
   "id": "665b17d3-2509-42ad-b15a-24d7b0e9b987",
   "metadata": {},
   "outputs": [
    {
     "name": "stdout",
     "output_type": "stream",
     "text": [
      "[4 5 8]\n",
      "[2 4 5 8]\n",
      "[8 1]\n"
     ]
    }
   ],
   "source": [
    "arr = np.array([2, 4, 5, 8, 1])\n",
    "\n",
    "sub_arr = arr[1:4]\n",
    "print(sub_arr)\n",
    "\n",
    "sub_arr = arr[:-1]\n",
    "print(sub_arr)\n",
    "\n",
    "sub_arr = arr[-2:]\n",
    "print(sub_arr)"
   ]
  },
  {
   "cell_type": "code",
   "execution_count": 13,
   "id": "30ed6ec3-77d6-466c-ab7f-c2e03e21ed11",
   "metadata": {},
   "outputs": [
    {
     "name": "stdout",
     "output_type": "stream",
     "text": [
      "[[1 2 3]\n",
      " [4 5 6]]\n",
      "[[1 4]\n",
      " [2 5]\n",
      " [3 6]]\n"
     ]
    }
   ],
   "source": [
    "arr = np.array([[1, 2, 3], [4, 5, 6]])\n",
    "print(arr)\n",
    "transposed_arr = arr.T\n",
    "print(transposed_arr)"
   ]
  },
  {
   "cell_type": "code",
   "execution_count": 14,
   "id": "d220df84-85bd-404a-9bea-64badb46f150",
   "metadata": {},
   "outputs": [
    {
     "name": "stdout",
     "output_type": "stream",
     "text": [
      "[1 2 3 4 5 6]\n"
     ]
    }
   ],
   "source": [
    "arr1 = np.array([1, 2, 3])\n",
    "arr2 = np.array([4, 5, 6])\n",
    "arr = np.concatenate((arr1, arr2))\n",
    "print(arr)"
   ]
  },
  {
   "cell_type": "code",
   "execution_count": 15,
   "id": "d02c7069-bb0e-4e2c-9eca-0bcb8d8a277b",
   "metadata": {},
   "outputs": [
    {
     "name": "stdout",
     "output_type": "stream",
     "text": [
      "Tổng của mảng arr: 15\n",
      "Giá trị trung bình của mảng arr: 3.0\n",
      "Giá trị lớn nhất trong mảng arr: 5\n",
      "Giá trị nhỏ nhất trong mảng arr: 1\n",
      "Độ lệch chuẩn của mảng arr: 1.4142135623730951\n",
      "Phương sai của mảng arr: 2.0\n",
      "Tổng tích chập của arr1 và arr2: 32\n"
     ]
    }
   ],
   "source": [
    "# II. Hàm tính tổng (Sum)\n",
    "# - Hàm numpy.sum() cho phép tính tổng các phần tử trong mảng.\n",
    "arr = np.array([1, 2, 3, 4, 5])\n",
    "total = np.sum(arr)\n",
    "print(\"Tổng của mảng arr:\", total)\n",
    "\n",
    "# III. Hàm tính trung bình (Mean)\n",
    "# - Hàm numpy.mean() tính giá trị trung bình của các phần tử trong mảng.\n",
    "average = np.mean(arr)\n",
    "print(\"Giá trị trung bình của mảng arr:\", average)\n",
    "\n",
    "# IV. Hàm tìm giá trị lớn nhất và nhỏ nhất (Max và Min)\n",
    "# - Hàm numpy.max() và numpy.min() dùng để tìm giá trị lớn nhất và nhỏ nhất trong mảng.\n",
    "max_value = np.max(arr)\n",
    "min_value = np.min(arr)\n",
    "print(\"Giá trị lớn nhất trong mảng arr:\", max_value)\n",
    "print(\"Giá trị nhỏ nhất trong mảng arr:\", min_value)\n",
    "\n",
    "# V. Hàm tính độ lệch chuẩn (Standard Deviation)\n",
    "# - Hàm numpy.std() tính độ lệch chuẩn của mảng, đo lường mức độ phân tán của dữ liệu.\n",
    "std_deviation = np.std(arr)\n",
    "print(\"Độ lệch chuẩn của mảng arr:\", std_deviation)\n",
    "\n",
    "# VI. Hàm tính phương sai (Variance)\n",
    "# - Hàm numpy.var() tính phương sai của mảng, đo lường mức độ biến thiên của dữ liệu.\n",
    "variance = np.var(arr)\n",
    "print(\"Phương sai của mảng arr:\", variance)\n",
    "\n",
    "# VII. Hàm tính tổng tích chập (Dot Product)\n",
    "# - Hàm numpy.dot() tính tổng tích chập của hai mảng (vector).\n",
    "arr1 = np.array([1, 2, 3])\n",
    "arr2 = np.array([4, 5, 6])\n",
    "dot_product = np.dot(arr1, arr2)\n",
    "print(\"Tổng tích chập của arr1 và arr2:\", dot_product)"
   ]
  },
  {
   "cell_type": "code",
   "execution_count": null,
   "id": "15a0b490-26e1-41e7-bbe1-1cf1b6ea3b79",
   "metadata": {},
   "outputs": [],
   "source": []
  }
 ],
 "metadata": {
  "kernelspec": {
   "display_name": "Python 3 (ipykernel)",
   "language": "python",
   "name": "python3"
  },
  "language_info": {
   "codemirror_mode": {
    "name": "ipython",
    "version": 3
   },
   "file_extension": ".py",
   "mimetype": "text/x-python",
   "name": "python",
   "nbconvert_exporter": "python",
   "pygments_lexer": "ipython3",
   "version": "3.12.4"
  }
 },
 "nbformat": 4,
 "nbformat_minor": 5
}

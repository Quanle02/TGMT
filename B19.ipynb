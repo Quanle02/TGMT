{
 "cells": [
  {
   "cell_type": "code",
   "execution_count": 1,
   "id": "26bc5ac7-de84-42b0-8d8f-15d90c094fa9",
   "metadata": {},
   "outputs": [],
   "source": [
    "#!pip install opencv-python"
   ]
  },
  {
   "cell_type": "code",
   "execution_count": 2,
   "id": "120097a5-f6fa-4ef5-a3e4-eb9f26d11b13",
   "metadata": {},
   "outputs": [],
   "source": [
    "def display(title, img):\n",
    "    cv2.imshow(title, img)\n",
    "    cv2.waitKey(0)\n",
    "    cv2.destroyWindow(title)"
   ]
  },
  {
   "cell_type": "code",
   "execution_count": 3,
   "id": "89099fd5-d380-4bea-be8c-c349ffedcc9b",
   "metadata": {},
   "outputs": [],
   "source": [
    "import cv2"
   ]
  },
  {
   "cell_type": "code",
   "execution_count": 4,
   "id": "bdfe7714-0b17-4407-b6f3-420b75bcc81d",
   "metadata": {},
   "outputs": [
    {
     "name": "stdout",
     "output_type": "stream",
     "text": [
      "[[[  1  23   4]\n",
      "  [  2  24   5]\n",
      "  [  3  25   6]\n",
      "  ...\n",
      "  [ 15  34  17]\n",
      "  [ 18  40  22]\n",
      "  [ 22  44  26]]\n",
      "\n",
      " [[  2  24   5]\n",
      "  [  2  24   5]\n",
      "  [  2  24   5]\n",
      "  ...\n",
      "  [ 11  30  13]\n",
      "  [ 14  36  18]\n",
      "  [ 18  40  22]]\n",
      "\n",
      " [[  2  24   5]\n",
      "  [  2  24   5]\n",
      "  [  1  23   4]\n",
      "  ...\n",
      "  [  6  25   8]\n",
      "  [ 11  30  13]\n",
      "  [ 15  34  17]]\n",
      "\n",
      " ...\n",
      "\n",
      " [[ 62 141  78]\n",
      "  [ 62 141  78]\n",
      "  [ 62 141  78]\n",
      "  ...\n",
      "  [ 21  89  32]\n",
      "  [ 23  91  34]\n",
      "  [ 24  92  35]]\n",
      "\n",
      " [[ 65 144  81]\n",
      "  [ 61 140  77]\n",
      "  [ 60 139  76]\n",
      "  ...\n",
      "  [ 27  95  38]\n",
      "  [ 20  88  31]\n",
      "  [ 27  95  38]]\n",
      "\n",
      " [[ 65 144  81]\n",
      "  [ 61 140  77]\n",
      "  [ 60 139  76]\n",
      "  ...\n",
      "  [ 27  95  38]\n",
      "  [ 20  88  31]\n",
      "  [ 27  95  38]]]\n"
     ]
    }
   ],
   "source": [
    "path= 'D:/tgmt_img/img01.jpg'\n",
    "img = cv2.imread(path)\n",
    "print(img)"
   ]
  },
  {
   "cell_type": "code",
   "execution_count": 5,
   "id": "3372b7ee-4255-458f-8476-80855f93d0c6",
   "metadata": {},
   "outputs": [
    {
     "name": "stdout",
     "output_type": "stream",
     "text": [
      "(618, 400, 3)\n",
      "618\n",
      "400\n",
      "3\n"
     ]
    }
   ],
   "source": [
    "print(img.shape)\n",
    "x, y, z = img.shape\n",
    "print(x)\n",
    "print(y)\n",
    "print(z)"
   ]
  },
  {
   "cell_type": "code",
   "execution_count": 8,
   "id": "9ab2c119-9164-4d21-8e24-d2c501b37d79",
   "metadata": {},
   "outputs": [],
   "source": [
    "cv2.imshow('Window', img)\n",
    "cv2.waitKey(10000)\n",
    "cv2.destroyWindow('Window')"
   ]
  },
  {
   "cell_type": "code",
   "execution_count": 7,
   "id": "233f1227-ed6a-4313-8abb-7c56786f7e64",
   "metadata": {},
   "outputs": [],
   "source": [
    "b, g, r = cv2.split(img)\n",
    "cv2.imshow('Window', img)\n",
    "cv2.imshow('Red', r)\n",
    "cv2.imshow('Green', g)\n",
    "cv2.imshow('Blue', b)\n",
    "\n",
    "cv2.waitKey(0)\n",
    "cv2.destroyAllWindows()"
   ]
  },
  {
   "cell_type": "code",
   "execution_count": 9,
   "id": "3143f48a-a8dc-4e8a-bbb0-17039dbb5481",
   "metadata": {},
   "outputs": [],
   "source": [
    "gray_img = cv2.cvtColor(img, cv2.COLOR_BGR2GRAY)\n",
    "img_2 = cv2.cvtColor(img, cv2.COLOR_BGR2RGB)\n",
    "cv2.imshow('Window', img)\n",
    "cv2.imshow('gray_img', gray_img)\n",
    "cv2.imshow('img_2', img_2)\n",
    "cv2.waitKey(0)\n",
    "cv2.destroyAllWindows()"
   ]
  },
  {
   "cell_type": "code",
   "execution_count": 10,
   "id": "f3470da1-d58c-4ab1-8f98-bc04c88b68aa",
   "metadata": {},
   "outputs": [],
   "source": [
    "height, width, z = img.shape\n",
    "quater_h = height/2\n",
    "quater_w = width/2\n",
    "\n",
    "green_color = (0,255,0)\n",
    "\n",
    "img2 = img.copy()\n",
    "\n",
    "\n",
    "for y in range(int(quater_h)):\n",
    "    for x in range(int(quater_w)):\n",
    "        img2[y, x] = green_color\n",
    "display('Window', img)\n",
    "display('Window-2', img2)"
   ]
  }
 ],
 "metadata": {
  "kernelspec": {
   "display_name": "Python 3 (ipykernel)",
   "language": "python",
   "name": "python3"
  },
  "language_info": {
   "codemirror_mode": {
    "name": "ipython",
    "version": 3
   },
   "file_extension": ".py",
   "mimetype": "text/x-python",
   "name": "python",
   "nbconvert_exporter": "python",
   "pygments_lexer": "ipython3",
   "version": "3.12.4"
  }
 },
 "nbformat": 4,
 "nbformat_minor": 5
}

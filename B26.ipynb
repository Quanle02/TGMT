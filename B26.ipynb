{
 "cells": [
  {
   "cell_type": "code",
   "execution_count": 1,
   "id": "1c13f783-5c2e-4c38-8747-96f2f5b05b5d",
   "metadata": {},
   "outputs": [],
   "source": [
    "import cv2\n",
    "import time"
   ]
  },
  {
   "cell_type": "code",
   "execution_count": 2,
   "id": "2d6fd1d5-312a-4bd9-a272-109e87a1c250",
   "metadata": {},
   "outputs": [],
   "source": [
    "def display(title, img):\n",
    "    cv2.imshow(title, img)\n",
    "    cv2.waitKey(0)\n",
    "    cv2.destroyWindow(title)"
   ]
  },
  {
   "cell_type": "code",
   "execution_count": 3,
   "id": "1004e82f-da82-4d48-8d25-01240b180cc0",
   "metadata": {},
   "outputs": [],
   "source": [
    "def detect(img):\n",
    "    face_cascade = cv2.CascadeClassifier('./data/haarcascade_frontalface_default.xml')\n",
    "    eye_cascade = cv2.CascadeClassifier('./data/haarcascade_eye_tree_eyeglasses.xml')\n",
    "    gray = cv2.cvtColor(img, cv2.COLOR_BGR2GRAY)\n",
    "    faces = face_cascade.detectMultiScale(gray, scaleFactor=1.1, minNeighbors=5, minSize=(30,30))\n",
    "    eyes = eye_cascade.detectMultiScale(gray, scaleFactor=1.1, minNeighbors=1, minSize=(5,5))\n",
    "    for (x, y, w, h) in faces:\n",
    "        cv2.rectangle(img, (x, y), (x+w, y+h), (0, 255,0), 2)\n",
    "    for (x, y, w, h) in eyes:\n",
    "        cv2.rectangle(img, (x, y), (x+w, y+h), (255, 0,0), 2)\n",
    "    return img"
   ]
  },
  {
   "cell_type": "code",
   "execution_count": 4,
   "id": "5e190752-35b0-4012-9ef7-517efa96014a",
   "metadata": {},
   "outputs": [],
   "source": [
    "camera = cv2.VideoCapture(0)\n",
    "cv2.namedWindow('Video Player', cv2.WINDOW_NORMAL)\n",
    "font = cv2.FONT_HERSHEY_SIMPLEX\n",
    "font_color = (255, 255, 255)\n",
    "font_scale = 1\n",
    "font_thicknes = 2\n",
    "while True:\n",
    "    start_time = time.time()\n",
    "    ret, frame = camera.read()\n",
    "    if not ret:\n",
    "        break\n",
    "    end_time = time.time()\n",
    "    fps = 1/(end_time-start_time)\n",
    "    frame = detect(frame)\n",
    "    cv2.putText(frame, f'FPS: {fps:.2f}', (100, 100), font, font_scale, font_color , font_thicknes)\n",
    "    cv2.imshow('Video Player', frame)\n",
    "    if(cv2.waitKey(10)==ord('q')):\n",
    "        break\n",
    "\n",
    "camera.release()\n",
    "cv2.destroyAllWindows()"
   ]
  }
 ],
 "metadata": {
  "kernelspec": {
   "display_name": "Python 3 (ipykernel)",
   "language": "python",
   "name": "python3"
  },
  "language_info": {
   "codemirror_mode": {
    "name": "ipython",
    "version": 3
   },
   "file_extension": ".py",
   "mimetype": "text/x-python",
   "name": "python",
   "nbconvert_exporter": "python",
   "pygments_lexer": "ipython3",
   "version": "3.12.4"
  }
 },
 "nbformat": 4,
 "nbformat_minor": 5
}
